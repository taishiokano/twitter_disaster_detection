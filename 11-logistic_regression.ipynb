{
 "cells": [
  {
   "cell_type": "code",
   "execution_count": 1,
   "id": "f561b0fa",
   "metadata": {},
   "outputs": [],
   "source": [
    "import pandas as pd\n",
    "import matplotlib.pyplot as plt\n",
    "from sklearn.model_selection import train_test_split\n",
    "from sklearn.feature_extraction.text import TfidfVectorizer\n",
    "from sklearn.linear_model import LogisticRegression\n",
    "from sklearn.metrics import classification_report, confusion_matrix, ConfusionMatrixDisplay\n",
    "from sklearn.base import clone\n",
    " "
   ]
  },
  {
   "cell_type": "code",
   "execution_count": 2,
   "id": "4f717637",
   "metadata": {},
   "outputs": [
    {
     "data": {
      "text/html": [
       "<div>\n",
       "<style scoped>\n",
       "    .dataframe tbody tr th:only-of-type {\n",
       "        vertical-align: middle;\n",
       "    }\n",
       "\n",
       "    .dataframe tbody tr th {\n",
       "        vertical-align: top;\n",
       "    }\n",
       "\n",
       "    .dataframe thead th {\n",
       "        text-align: right;\n",
       "    }\n",
       "</style>\n",
       "<table border=\"1\" class=\"dataframe\">\n",
       "  <thead>\n",
       "    <tr style=\"text-align: right;\">\n",
       "      <th></th>\n",
       "      <th>id</th>\n",
       "      <th>keyword</th>\n",
       "      <th>location</th>\n",
       "      <th>text</th>\n",
       "      <th>target</th>\n",
       "      <th>tokenized_clean_text</th>\n",
       "    </tr>\n",
       "  </thead>\n",
       "  <tbody>\n",
       "    <tr>\n",
       "      <th>9972</th>\n",
       "      <td>9972</td>\n",
       "      <td>collapsed</td>\n",
       "      <td>Eugene, Oregon</td>\n",
       "      <td>Roof collapsed a bowling alley many in the com...</td>\n",
       "      <td>1</td>\n",
       "      <td>['roof', 'collapsed', 'bowling', 'alley', 'man...</td>\n",
       "    </tr>\n",
       "    <tr>\n",
       "      <th>2342</th>\n",
       "      <td>2342</td>\n",
       "      <td>demolition</td>\n",
       "      <td>NaN</td>\n",
       "      <td>#download &amp;amp; #watch Demolition Frog (2002) ...</td>\n",
       "      <td>1</td>\n",
       "      <td>['download', 'amp', 'watch', 'demolition', 'fr...</td>\n",
       "    </tr>\n",
       "    <tr>\n",
       "      <th>12804</th>\n",
       "      <td>12804</td>\n",
       "      <td>fatalities</td>\n",
       "      <td>NaN</td>\n",
       "      <td>No UK train accident fatalities for 8th year r...</td>\n",
       "      <td>1</td>\n",
       "      <td>['uk', 'train', 'accident', 'fatality', 'year'...</td>\n",
       "    </tr>\n",
       "    <tr>\n",
       "      <th>9649</th>\n",
       "      <td>9649</td>\n",
       "      <td>casualties</td>\n",
       "      <td>Arizona, USA</td>\n",
       "      <td>Obama 'lambasted 4 not being respected &amp;amp; 4...</td>\n",
       "      <td>0</td>\n",
       "      <td>['obama', 'respected', 'amp', 'would', 'trump'...</td>\n",
       "    </tr>\n",
       "    <tr>\n",
       "      <th>15851</th>\n",
       "      <td>15851</td>\n",
       "      <td>rioting</td>\n",
       "      <td>NYC</td>\n",
       "      <td>.@runjewels recently met with the @BBC to disc...</td>\n",
       "      <td>0</td>\n",
       "      <td>['runjewels', 'recently', 'met', 'bbc', 'discu...</td>\n",
       "    </tr>\n",
       "  </tbody>\n",
       "</table>\n",
       "</div>"
      ],
      "text/plain": [
       "          id     keyword        location   \n",
       "9972    9972   collapsed  Eugene, Oregon  \\\n",
       "2342    2342  demolition             NaN   \n",
       "12804  12804  fatalities             NaN   \n",
       "9649    9649  casualties    Arizona, USA   \n",
       "15851  15851     rioting             NYC   \n",
       "\n",
       "                                                    text  target   \n",
       "9972   Roof collapsed a bowling alley many in the com...       1  \\\n",
       "2342   #download &amp; #watch Demolition Frog (2002) ...       1   \n",
       "12804  No UK train accident fatalities for 8th year r...       1   \n",
       "9649   Obama 'lambasted 4 not being respected &amp; 4...       0   \n",
       "15851  .@runjewels recently met with the @BBC to disc...       0   \n",
       "\n",
       "                                    tokenized_clean_text  \n",
       "9972   ['roof', 'collapsed', 'bowling', 'alley', 'man...  \n",
       "2342   ['download', 'amp', 'watch', 'demolition', 'fr...  \n",
       "12804  ['uk', 'train', 'accident', 'fatality', 'year'...  \n",
       "9649   ['obama', 'respected', 'amp', 'would', 'trump'...  \n",
       "15851  ['runjewels', 'recently', 'met', 'bbc', 'discu...  "
      ]
     },
     "execution_count": 2,
     "metadata": {},
     "output_type": "execute_result"
    }
   ],
   "source": [
    "data = pd.read_csv('./data/cleaned-tokenized-train-tweets.csv', sep=\"|\")\n",
    "data.sample(5)"
   ]
  },
  {
   "cell_type": "code",
   "execution_count": 3,
   "id": "a43ca592",
   "metadata": {},
   "outputs": [
    {
     "data": {
      "text/html": [
       "<div>\n",
       "<style scoped>\n",
       "    .dataframe tbody tr th:only-of-type {\n",
       "        vertical-align: middle;\n",
       "    }\n",
       "\n",
       "    .dataframe tbody tr th {\n",
       "        vertical-align: top;\n",
       "    }\n",
       "\n",
       "    .dataframe thead th {\n",
       "        text-align: right;\n",
       "    }\n",
       "</style>\n",
       "<table border=\"1\" class=\"dataframe\">\n",
       "  <thead>\n",
       "    <tr style=\"text-align: right;\">\n",
       "      <th></th>\n",
       "      <th>id</th>\n",
       "      <th>keyword</th>\n",
       "      <th>location</th>\n",
       "      <th>text</th>\n",
       "      <th>target</th>\n",
       "      <th>tokenized_clean_text</th>\n",
       "    </tr>\n",
       "  </thead>\n",
       "  <tbody>\n",
       "    <tr>\n",
       "      <th>10139</th>\n",
       "      <td>10139</td>\n",
       "      <td>collision</td>\n",
       "      <td>East Atlanta, Georgia</td>\n",
       "      <td>Well Saturn doesn't exist anymore. So the coll...</td>\n",
       "      <td>1</td>\n",
       "      <td>['well', 'saturn', 'exist', 'anymore', 'collis...</td>\n",
       "    </tr>\n",
       "    <tr>\n",
       "      <th>13102</th>\n",
       "      <td>13102</td>\n",
       "      <td>flames</td>\n",
       "      <td>Fairy Tail!</td>\n",
       "      <td>@AisuMage @AkumaReisu --just between Gray and ...</td>\n",
       "      <td>1</td>\n",
       "      <td>['aisumage', 'akumareisu', 'gray', 'ophelia', ...</td>\n",
       "    </tr>\n",
       "    <tr>\n",
       "      <th>17542</th>\n",
       "      <td>17542</td>\n",
       "      <td>trouble</td>\n",
       "      <td>North Carolina</td>\n",
       "      <td>@TJ_Robertson2 no bc we always got in trouble ...</td>\n",
       "      <td>0</td>\n",
       "      <td>['bc', 'always', 'got', 'trouble', 'laughing',...</td>\n",
       "    </tr>\n",
       "    <tr>\n",
       "      <th>13773</th>\n",
       "      <td>13773</td>\n",
       "      <td>hijack</td>\n",
       "      <td>Kolkata</td>\n",
       "      <td>Stay cautious. http://t.co/JeJC9XcTMp</td>\n",
       "      <td>0</td>\n",
       "      <td>['stay', 'cautious', 'http']</td>\n",
       "    </tr>\n",
       "    <tr>\n",
       "      <th>2062</th>\n",
       "      <td>2062</td>\n",
       "      <td>dead</td>\n",
       "      <td>NaN</td>\n",
       "      <td>i miss my longer hair..but it was so dead anyw...</td>\n",
       "      <td>0</td>\n",
       "      <td>['miss', 'longer', 'hair', 'dead', 'anyways', ...</td>\n",
       "    </tr>\n",
       "  </tbody>\n",
       "</table>\n",
       "</div>"
      ],
      "text/plain": [
       "          id    keyword               location   \n",
       "10139  10139  collision  East Atlanta, Georgia  \\\n",
       "13102  13102     flames           Fairy Tail!    \n",
       "17542  17542    trouble        North Carolina    \n",
       "13773  13773     hijack                Kolkata   \n",
       "2062    2062       dead                    NaN   \n",
       "\n",
       "                                                    text  target   \n",
       "10139  Well Saturn doesn't exist anymore. So the coll...       1  \\\n",
       "13102  @AisuMage @AkumaReisu --just between Gray and ...       1   \n",
       "17542  @TJ_Robertson2 no bc we always got in trouble ...       0   \n",
       "13773              Stay cautious. http://t.co/JeJC9XcTMp       0   \n",
       "2062   i miss my longer hair..but it was so dead anyw...       0   \n",
       "\n",
       "                                    tokenized_clean_text  \n",
       "10139  ['well', 'saturn', 'exist', 'anymore', 'collis...  \n",
       "13102  ['aisumage', 'akumareisu', 'gray', 'ophelia', ...  \n",
       "17542  ['bc', 'always', 'got', 'trouble', 'laughing',...  \n",
       "13773                       ['stay', 'cautious', 'http']  \n",
       "2062   ['miss', 'longer', 'hair', 'dead', 'anyways', ...  "
      ]
     },
     "metadata": {},
     "output_type": "display_data"
    },
    {
     "data": {
      "text/html": [
       "<div>\n",
       "<style scoped>\n",
       "    .dataframe tbody tr th:only-of-type {\n",
       "        vertical-align: middle;\n",
       "    }\n",
       "\n",
       "    .dataframe tbody tr th {\n",
       "        vertical-align: top;\n",
       "    }\n",
       "\n",
       "    .dataframe thead th {\n",
       "        text-align: right;\n",
       "    }\n",
       "</style>\n",
       "<table border=\"1\" class=\"dataframe\">\n",
       "  <thead>\n",
       "    <tr style=\"text-align: right;\">\n",
       "      <th></th>\n",
       "      <th>id</th>\n",
       "      <th>keyword</th>\n",
       "      <th>location</th>\n",
       "      <th>text</th>\n",
       "      <th>target</th>\n",
       "      <th>tokenized_clean_text</th>\n",
       "    </tr>\n",
       "  </thead>\n",
       "  <tbody>\n",
       "    <tr>\n",
       "      <th>9926</th>\n",
       "      <td>9926</td>\n",
       "      <td>collapse</td>\n",
       "      <td>Location</td>\n",
       "      <td>I get this feeling that society will collapse ...</td>\n",
       "      <td>0</td>\n",
       "      <td>['get', 'feeling', 'society', 'collapse', 'imp...</td>\n",
       "    </tr>\n",
       "    <tr>\n",
       "      <th>8437</th>\n",
       "      <td>8437</td>\n",
       "      <td>battle</td>\n",
       "      <td>USA!</td>\n",
       "      <td>I liked a @YouTube video from @screwattack htt...</td>\n",
       "      <td>1</td>\n",
       "      <td>['liked', 'youtube', 'video', 'screwattack', '...</td>\n",
       "    </tr>\n",
       "    <tr>\n",
       "      <th>7403</th>\n",
       "      <td>7403</td>\n",
       "      <td>wounded</td>\n",
       "      <td>Paterson, New Jersey</td>\n",
       "      <td>Officer Wounded Suspect Killed in Exchange of ...</td>\n",
       "      <td>1</td>\n",
       "      <td>['officer', 'wounded', 'suspect', 'killed', 'e...</td>\n",
       "    </tr>\n",
       "    <tr>\n",
       "      <th>17001</th>\n",
       "      <td>17001</td>\n",
       "      <td>survivors</td>\n",
       "      <td>Chicago, IL</td>\n",
       "      <td>RT @kotowsa: South Sudan‰Ûªs war on women: sur...</td>\n",
       "      <td>1</td>\n",
       "      <td>['rt', 'kotowsa', 'south', 'war', 'woman', 'su...</td>\n",
       "    </tr>\n",
       "    <tr>\n",
       "      <th>15066</th>\n",
       "      <td>15066</td>\n",
       "      <td>obliteration</td>\n",
       "      <td>828/704(Soufside)/while looking goofy in NJ</td>\n",
       "      <td>Back in 02 to 03 would never said that 50 woul...</td>\n",
       "      <td>0</td>\n",
       "      <td>['back', 'would', 'never', 'said', 'would', 'e...</td>\n",
       "    </tr>\n",
       "  </tbody>\n",
       "</table>\n",
       "</div>"
      ],
      "text/plain": [
       "          id       keyword                                     location   \n",
       "9926    9926      collapse                                     Location  \\\n",
       "8437    8437        battle                                         USA!   \n",
       "7403    7403       wounded                        Paterson, New Jersey    \n",
       "17001  17001     survivors                                  Chicago, IL   \n",
       "15066  15066  obliteration  828/704(Soufside)/while looking goofy in NJ   \n",
       "\n",
       "                                                    text  target   \n",
       "9926   I get this feeling that society will collapse ...       0  \\\n",
       "8437   I liked a @YouTube video from @screwattack htt...       1   \n",
       "7403   Officer Wounded Suspect Killed in Exchange of ...       1   \n",
       "17001  RT @kotowsa: South Sudan‰Ûªs war on women: sur...       1   \n",
       "15066  Back in 02 to 03 would never said that 50 woul...       0   \n",
       "\n",
       "                                    tokenized_clean_text  \n",
       "9926   ['get', 'feeling', 'society', 'collapse', 'imp...  \n",
       "8437   ['liked', 'youtube', 'video', 'screwattack', '...  \n",
       "7403   ['officer', 'wounded', 'suspect', 'killed', 'e...  \n",
       "17001  ['rt', 'kotowsa', 'south', 'war', 'woman', 'su...  \n",
       "15066  ['back', 'would', 'never', 'said', 'would', 'e...  "
      ]
     },
     "metadata": {},
     "output_type": "display_data"
    }
   ],
   "source": [
    "train, test = train_test_split(data, test_size=0.3, random_state=30255)\n",
    "display(train.sample(5))\n",
    "display(test.sample(5))"
   ]
  },
  {
   "cell_type": "code",
   "execution_count": 4,
   "id": "da60580c",
   "metadata": {
    "scrolled": false
   },
   "outputs": [],
   "source": [
    "# TF-IDF\n",
    "tfidf_vec = TfidfVectorizer(ngram_range=(1,3))\n",
    "tfidf_vec.fit(data['tokenized_clean_text'].tolist())\n",
    "# tfidf_test = clone(tfidf_train)\n",
    "train_tfidf_text = tfidf_vec.transform(train['tokenized_clean_text'].tolist())\n",
    "test_tfidf_text = tfidf_vec.transform(test['tokenized_clean_text'].tolist())\n"
   ]
  },
  {
   "cell_type": "code",
   "execution_count": 5,
   "id": "191deb97",
   "metadata": {},
   "outputs": [
    {
     "data": {
      "text/html": [
       "<style>#sk-container-id-1 {color: black;background-color: white;}#sk-container-id-1 pre{padding: 0;}#sk-container-id-1 div.sk-toggleable {background-color: white;}#sk-container-id-1 label.sk-toggleable__label {cursor: pointer;display: block;width: 100%;margin-bottom: 0;padding: 0.3em;box-sizing: border-box;text-align: center;}#sk-container-id-1 label.sk-toggleable__label-arrow:before {content: \"▸\";float: left;margin-right: 0.25em;color: #696969;}#sk-container-id-1 label.sk-toggleable__label-arrow:hover:before {color: black;}#sk-container-id-1 div.sk-estimator:hover label.sk-toggleable__label-arrow:before {color: black;}#sk-container-id-1 div.sk-toggleable__content {max-height: 0;max-width: 0;overflow: hidden;text-align: left;background-color: #f0f8ff;}#sk-container-id-1 div.sk-toggleable__content pre {margin: 0.2em;color: black;border-radius: 0.25em;background-color: #f0f8ff;}#sk-container-id-1 input.sk-toggleable__control:checked~div.sk-toggleable__content {max-height: 200px;max-width: 100%;overflow: auto;}#sk-container-id-1 input.sk-toggleable__control:checked~label.sk-toggleable__label-arrow:before {content: \"▾\";}#sk-container-id-1 div.sk-estimator input.sk-toggleable__control:checked~label.sk-toggleable__label {background-color: #d4ebff;}#sk-container-id-1 div.sk-label input.sk-toggleable__control:checked~label.sk-toggleable__label {background-color: #d4ebff;}#sk-container-id-1 input.sk-hidden--visually {border: 0;clip: rect(1px 1px 1px 1px);clip: rect(1px, 1px, 1px, 1px);height: 1px;margin: -1px;overflow: hidden;padding: 0;position: absolute;width: 1px;}#sk-container-id-1 div.sk-estimator {font-family: monospace;background-color: #f0f8ff;border: 1px dotted black;border-radius: 0.25em;box-sizing: border-box;margin-bottom: 0.5em;}#sk-container-id-1 div.sk-estimator:hover {background-color: #d4ebff;}#sk-container-id-1 div.sk-parallel-item::after {content: \"\";width: 100%;border-bottom: 1px solid gray;flex-grow: 1;}#sk-container-id-1 div.sk-label:hover label.sk-toggleable__label {background-color: #d4ebff;}#sk-container-id-1 div.sk-serial::before {content: \"\";position: absolute;border-left: 1px solid gray;box-sizing: border-box;top: 0;bottom: 0;left: 50%;z-index: 0;}#sk-container-id-1 div.sk-serial {display: flex;flex-direction: column;align-items: center;background-color: white;padding-right: 0.2em;padding-left: 0.2em;position: relative;}#sk-container-id-1 div.sk-item {position: relative;z-index: 1;}#sk-container-id-1 div.sk-parallel {display: flex;align-items: stretch;justify-content: center;background-color: white;position: relative;}#sk-container-id-1 div.sk-item::before, #sk-container-id-1 div.sk-parallel-item::before {content: \"\";position: absolute;border-left: 1px solid gray;box-sizing: border-box;top: 0;bottom: 0;left: 50%;z-index: -1;}#sk-container-id-1 div.sk-parallel-item {display: flex;flex-direction: column;z-index: 1;position: relative;background-color: white;}#sk-container-id-1 div.sk-parallel-item:first-child::after {align-self: flex-end;width: 50%;}#sk-container-id-1 div.sk-parallel-item:last-child::after {align-self: flex-start;width: 50%;}#sk-container-id-1 div.sk-parallel-item:only-child::after {width: 0;}#sk-container-id-1 div.sk-dashed-wrapped {border: 1px dashed gray;margin: 0 0.4em 0.5em 0.4em;box-sizing: border-box;padding-bottom: 0.4em;background-color: white;}#sk-container-id-1 div.sk-label label {font-family: monospace;font-weight: bold;display: inline-block;line-height: 1.2em;}#sk-container-id-1 div.sk-label-container {text-align: center;}#sk-container-id-1 div.sk-container {/* jupyter's `normalize.less` sets `[hidden] { display: none; }` but bootstrap.min.css set `[hidden] { display: none !important; }` so we also need the `!important` here to be able to override the default hidden behavior on the sphinx rendered scikit-learn.org. See: https://github.com/scikit-learn/scikit-learn/issues/21755 */display: inline-block !important;position: relative;}#sk-container-id-1 div.sk-text-repr-fallback {display: none;}</style><div id=\"sk-container-id-1\" class=\"sk-top-container\"><div class=\"sk-text-repr-fallback\"><pre>LogisticRegression()</pre><b>In a Jupyter environment, please rerun this cell to show the HTML representation or trust the notebook. <br />On GitHub, the HTML representation is unable to render, please try loading this page with nbviewer.org.</b></div><div class=\"sk-container\" hidden><div class=\"sk-item\"><div class=\"sk-estimator sk-toggleable\"><input class=\"sk-toggleable__control sk-hidden--visually\" id=\"sk-estimator-id-1\" type=\"checkbox\" checked><label for=\"sk-estimator-id-1\" class=\"sk-toggleable__label sk-toggleable__label-arrow\">LogisticRegression</label><div class=\"sk-toggleable__content\"><pre>LogisticRegression()</pre></div></div></div></div></div>"
      ],
      "text/plain": [
       "LogisticRegression()"
      ]
     },
     "execution_count": 5,
     "metadata": {},
     "output_type": "execute_result"
    }
   ],
   "source": [
    "model = LogisticRegression()\n",
    "model.fit(train_tfidf_text, train['target'])\n"
   ]
  },
  {
   "cell_type": "code",
   "execution_count": 6,
   "id": "d3d63db9",
   "metadata": {},
   "outputs": [
    {
     "name": "stdout",
     "output_type": "stream",
     "text": [
      "              precision    recall  f1-score   support\n",
      "\n",
      "           0       0.91      0.99      0.95      7388\n",
      "           1       0.98      0.87      0.92      5543\n",
      "\n",
      "    accuracy                           0.94     12931\n",
      "   macro avg       0.94      0.93      0.93     12931\n",
      "weighted avg       0.94      0.94      0.93     12931\n",
      "\n"
     ]
    }
   ],
   "source": [
    "train_prediction = model.predict(train_tfidf_text)\n",
    "print(classification_report(train['target'], train_prediction))\n"
   ]
  },
  {
   "cell_type": "code",
   "execution_count": 7,
   "id": "ba57f6e3",
   "metadata": {},
   "outputs": [
    {
     "name": "stdout",
     "output_type": "stream",
     "text": [
      "              precision    recall  f1-score   support\n",
      "\n",
      "           0       0.81      0.97      0.88      3141\n",
      "           1       0.94      0.70      0.81      2401\n",
      "\n",
      "    accuracy                           0.85      5542\n",
      "   macro avg       0.88      0.83      0.84      5542\n",
      "weighted avg       0.87      0.85      0.85      5542\n",
      "\n"
     ]
    }
   ],
   "source": [
    "test_predict = model.predict(test_tfidf_text)\n",
    "print(classification_report(test['target'], test_predict))\n"
   ]
  },
  {
   "cell_type": "code",
   "execution_count": 10,
   "id": "6b160792",
   "metadata": {},
   "outputs": [
    {
     "data": {
      "text/plain": [
       "array([[3041,  100],\n",
       "       [ 716, 1685]])"
      ]
     },
     "execution_count": 10,
     "metadata": {},
     "output_type": "execute_result"
    }
   ],
   "source": [
    "cm = confusion_matrix(test['target'], test_predict)\n",
    "cm"
   ]
  },
  {
   "cell_type": "code",
   "execution_count": 12,
   "id": "bf295eef",
   "metadata": {},
   "outputs": [
    {
     "data": {
      "image/png": "[encoded data removed]",
      "text/plain": [
       "<Figure size 640x480 with 2 Axes>"
      ]
     },
     "metadata": {},
     "output_type": "display_data"
    }
   ],
   "source": [
    "disp = ConfusionMatrixDisplay(confusion_matrix=cm)\n",
    "disp.plot()\n",
    "plt.show()"
   ]
  },
  {
   "cell_type": "code",
   "execution_count": null,
   "id": "03d9e70c",
   "metadata": {},
   "outputs": [],
   "source": []
  }
 ],
 "metadata": {
  "kernelspec": {
   "display_name": "Python 3 (ipykernel)",
   "language": "python",
   "name": "python3"
  },
  "language_info": {
   "codemirror_mode": {
    "name": "ipython",
    "version": 3
   },
   "file_extension": ".py",
   "mimetype": "text/x-python",
   "name": "python",
   "nbconvert_exporter": "python",
   "pygments_lexer": "ipython3",
   "version": "3.11.2"
  }
 },
 "nbformat": 4,
 "nbformat_minor": 5
}
