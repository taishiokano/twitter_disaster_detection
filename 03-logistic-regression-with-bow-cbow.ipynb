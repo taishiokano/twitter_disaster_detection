{
 "cells": [
  {
   "attachments": {},
   "cell_type": "markdown",
   "metadata": {},
   "source": [
    "# 03. Logistic Regression with BOW and CBOW using GloVE Embedding"
   ]
  },
  {
   "attachments": {},
   "cell_type": "markdown",
   "metadata": {},
   "source": [
    "In this module, we will implement logistic regression with two contextual-free embeddings, namely, bag of words embedding (a simpler one) and continuous bag of words embedding using pre-trained GloVE"
   ]
  },
  {
   "attachments": {},
   "cell_type": "markdown",
   "metadata": {},
   "source": [
    "## Import the Dataset\n",
    "\n",
    "We begin this module with importing our prepared dataset. However, we need to transform our data in order to use with PyTorch"
   ]
  },
  {
   "cell_type": "code",
   "execution_count": 1,
   "metadata": {},
   "outputs": [],
   "source": [
    "import pandas as pd\n",
    "df = pd.read_csv(\"data/cleaned-train-tweets.csv\", sep=\"|\")"
   ]
  },
  {
   "attachments": {},
   "cell_type": "markdown",
   "metadata": {},
   "source": [
    "## Create Dataset for Using in PyTorch"
   ]
  },
  {
   "attachments": {},
   "cell_type": "markdown",
   "metadata": {},
   "source": [
    "Pandas `df` does not simply to use in PyTorch. Hence, we need to create a custom dataset called `DisasterTweetsDataset` for using with PyTorch "
   ]
  },
  {
   "cell_type": "code",
   "execution_count": 2,
   "metadata": {},
   "outputs": [],
   "source": [
    "import torch\n",
    "from torch.utils.data import Dataset\n",
    "from torchtext.vocab import build_vocab_from_iterator\n",
    "from torchtext.data.utils import get_tokenizer\n",
    "\n",
    "class DisasterTweetsDataset(Dataset):\n",
    "    def __init__(self, df, max_vocab_size, vocabulary = None):\n",
    "        \n",
    "        # load dataframe\n",
    "        self.x = df[\"clean_text\"]\n",
    "        self.y = df[\"target\"]\n",
    "\n",
    "        # create vocabulary\n",
    "        if not vocabulary:\n",
    "            self.vocab = build_vocab_from_iterator(\n",
    "                [\" \".join([str(text) for text in df[\"clean_text\"]]).split()],\n",
    "                specials=['<unk>'],\n",
    "                max_tokens = max_vocab_size)\n",
    "            self.vocab.set_default_index(self.vocab['<unk>'])\n",
    "        else:\n",
    "            self.vocab = vocabulary\n",
    "\n",
    "    @property\n",
    "    def vocab_size(self):\n",
    "        # add one more for out of vocab words\n",
    "        return len(self.vocab) + 1\n",
    "    \n",
    "    def get_vocab(self):\n",
    "        return self.vocab\n",
    "\n",
    "    def __len__(self):\n",
    "        return len(self.x)\n",
    "\n",
    "    def __getitem__(self, i):\n",
    "        x = self.x[i]\n",
    "        y = self.y[i]\n",
    "        return (y, x)"
   ]
  },
  {
   "attachments": {},
   "cell_type": "markdown",
   "metadata": {},
   "source": [
    "Then, we initiate the dataset and get a vocabulary for this dataset"
   ]
  },
  {
   "cell_type": "code",
   "execution_count": 3,
   "metadata": {},
   "outputs": [],
   "source": [
    "dataset = DisasterTweetsDataset(df, 10000)\n",
    "vocab = dataset.get_vocab()"
   ]
  },
  {
   "cell_type": "code",
   "execution_count": 4,
   "metadata": {},
   "outputs": [
    {
     "name": "stdout",
     "output_type": "stream",
     "text": [
      "Text 0: deed reason earthquake may allah forgive u, Label: 1\n",
      "Text 1: forest fire near la ronge sask canada, Label: 1\n",
      "Text 2: resident asked place notified officer evacuation shelter place order expected, Label: 1\n"
     ]
    }
   ],
   "source": [
    "iter = iter(dataset)\n",
    "for i in range(3):\n",
    "    label, text = next(iter)\n",
    "    print(\"Text {}: {}, Label: {}\".format(i, text, label))"
   ]
  },
  {
   "attachments": {},
   "cell_type": "markdown",
   "metadata": {},
   "source": [
    "## Prepare Collation Function\n",
    "\n",
    "PyTorch model cannot infer anything from `string`. Therefore, we need a way to transform texts into numbers. In this module, two methods will be used:\n",
    "\n",
    "- Bag of Words (BOW)\n",
    "- Continuous Bag of Words from Pretrained GloVE (CBOW)"
   ]
  },
  {
   "attachments": {},
   "cell_type": "markdown",
   "metadata": {},
   "source": [
    "### Bag of Words"
   ]
  },
  {
   "cell_type": "code",
   "execution_count": 5,
   "metadata": {},
   "outputs": [],
   "source": [
    "def collate_into_bow(batch):\n",
    "    \"\"\"\n",
    "    collate the dataset into bag of words representation\n",
    "    \n",
    "    input:\n",
    "        - batch (list(str, int)): a list of dataset in forms of label, text\n",
    "    return:\n",
    "        - (tensor): a tensor of labels\n",
    "        - (tensor): a tensor of bag of words\n",
    "    \"\"\"\n",
    "    def text_pipeline(text):\n",
    "        \"\"\"\n",
    "        create bow vector for each text\n",
    "        \n",
    "        input:\n",
    "            - text (str): a document, a text\n",
    "        return:\n",
    "            - (list): a bow vector\n",
    "        \"\"\"\n",
    "\n",
    "        indices = vocab(str(text).split())\n",
    "        bows = [0] * len(vocab)\n",
    "        for index in indices:\n",
    "            bows[index] += 1 / len(indices)\n",
    "        return bows\n",
    "\n",
    "    labels, texts = [], []\n",
    "    for label, text in batch:\n",
    "        labels.append(int(label))\n",
    "        texts.append(text_pipeline(text))\n",
    "    return torch.tensor(labels, dtype=torch.int64), torch.tensor(texts)"
   ]
  },
  {
   "attachments": {},
   "cell_type": "markdown",
   "metadata": {},
   "source": [
    "### Continuous Bag of Words"
   ]
  },
  {
   "cell_type": "code",
   "execution_count": 6,
   "metadata": {},
   "outputs": [],
   "source": [
    "from torchtext.vocab import GloVe\n",
    "glove = GloVe(name='6B')\n",
    "vecs = glove.get_vecs_by_tokens\n",
    "\n",
    "\n",
    "def collate_into_cbow(batch):\n",
    "    \"\"\"\n",
    "    collate the dataset into continuous bag of words representation\n",
    "    \n",
    "    input:\n",
    "        - batch (list(int, str)): a list of dataset in forms of label, text\n",
    "    return:\n",
    "        - (tensor): a tensor of labels\n",
    "        - (tensor): a tensor of bag of words\n",
    "    \"\"\"\n",
    "    def text_pipeline(text):\n",
    "        \"\"\"\n",
    "        create cbow vector for each text\n",
    "        \n",
    "        input:\n",
    "            - text (str): a document, a text\n",
    "        return:\n",
    "            - (list): a cbow vector\n",
    "        \"\"\"\n",
    "\n",
    "        tokens = str(text).split()\n",
    "        vecs = glove.get_vecs_by_tokens(tokens)\n",
    "        return list(vecs.mean(dim=0))\n",
    "\n",
    "    label_pipeline = lambda x: int(x) - 1 \n",
    "    labels, texts = [], []\n",
    "    for label, text in batch:\n",
    "        labels.append(int(label))\n",
    "        texts.append(text_pipeline(text))\n",
    "    return torch.tensor(labels, dtype=torch.int64), torch.tensor(texts)"
   ]
  },
  {
   "attachments": {},
   "cell_type": "markdown",
   "metadata": {},
   "source": [
    "## Prepare Training Pipeline"
   ]
  },
  {
   "cell_type": "code",
   "execution_count": 14,
   "metadata": {},
   "outputs": [],
   "source": [
    "# Initiate a dataloader and split the data into train and validation dataset\n",
    "from torch.utils.data.dataset import random_split\n",
    "from torch.utils.data import DataLoader\n",
    "\n",
    "def new_dataloader(dataset, collate_fn, batch_size=64, split_train_ratio=0.7):\n",
    "    num_train = int(len(df) * split_train_ratio)\n",
    "    num_valid = len(df) - num_train\n",
    "    train_data, valid_data = random_split(\n",
    "        dataset,\n",
    "        [num_train, num_valid]\n",
    "    )\n",
    "    train_dataloader = DataLoader(\n",
    "        train_data, \n",
    "        batch_size=batch_size, \n",
    "        shuffle=True,\n",
    "        collate_fn=collate_fn\n",
    "    )\n",
    "    valid_dataloader = DataLoader(\n",
    "        valid_data, \n",
    "        batch_size=batch_size,\n",
    "        shuffle=False, \n",
    "        collate_fn=collate_fn)\n",
    "    return (train_dataloader, valid_dataloader)"
   ]
  },
  {
   "cell_type": "code",
   "execution_count": 15,
   "metadata": {},
   "outputs": [],
   "source": [
    "# function for training an epoch\n",
    "def train_an_epoch(dataloader, model, loss_function, optimizer):\n",
    "    model.train() # Sets the module in training mode.\n",
    "    log_interval = 500\n",
    "\n",
    "    for idx, (label, text) in enumerate(dataloader):\n",
    "        model.zero_grad()\n",
    "        log_probs = model(text)\n",
    "        loss = loss_function(log_probs, label)\n",
    "        loss.backward()\n",
    "        optimizer.step()\n",
    "        if idx % log_interval == 0 and idx > 0:\n",
    "            print(f'At iteration {idx} the loss is {loss:.3f}.')"
   ]
  },
  {
   "cell_type": "code",
   "execution_count": 16,
   "metadata": {},
   "outputs": [],
   "source": [
    "# function for calculate the accuracy for a given dataloader\n",
    "def get_accuracy(dataloader, model):\n",
    "    model.eval()\n",
    "    with torch.no_grad():\n",
    "        total_acc, total_count = 0, 0\n",
    "        for _, (label, text) in enumerate(dataloader):\n",
    "            log_probs = model(text)\n",
    "            predicted_label = torch.argmax(log_probs, dim=1)\n",
    "            total_acc += (predicted_label == label).sum().item()\n",
    "            total_count += label.size(0)\n",
    "    return total_acc / total_count"
   ]
  },
  {
   "cell_type": "code",
   "execution_count": 25,
   "metadata": {},
   "outputs": [],
   "source": [
    "# putting all together, create function for training\n",
    "import matplotlib.pyplot as plt\n",
    "import time\n",
    "\n",
    "def training(dataset, collate_fn, batch_size, split_train_ratio, model, epochs, loss_function, optimizer):\n",
    "    \n",
    "    # create dataloader from dataset\n",
    "    train_dataloader, valid_dataloader = new_dataloader(\n",
    "        dataset, collate_fn, batch_size, split_train_ratio)\n",
    "\n",
    "    # training\n",
    "    accuracies=[]\n",
    "    for epoch in range(1, epochs + 1):\n",
    "        epoch_start_time = time.time()\n",
    "        train_an_epoch(train_dataloader, model, loss_function, optimizer)\n",
    "        accuracy = get_accuracy(valid_dataloader, model)\n",
    "        accuracies.append(accuracy)\n",
    "        time_taken = time.time() - epoch_start_time\n",
    "        print(f'After epoch {epoch} the validation accuracy is {accuracy:.3f}.')\n",
    "    \n",
    "    plt.plot(range(1, epochs + 1), accuracies)"
   ]
  },
  {
   "attachments": {},
   "cell_type": "markdown",
   "metadata": {},
   "source": [
    "## Logistic Regression using Bag of Words Embedding"
   ]
  },
  {
   "attachments": {},
   "cell_type": "markdown",
   "metadata": {},
   "source": [
    "### Implement and Initialize the Classifier"
   ]
  },
  {
   "cell_type": "code",
   "execution_count": 7,
   "metadata": {},
   "outputs": [],
   "source": [
    "# Initiate a bag of word classifier\n",
    "from torch import nn\n",
    "import torch.nn.functional as F\n",
    "\n",
    "class BoWClassifier(nn.Module):\n",
    "    def __init__(self, vocab_size, num_labels):\n",
    "        super(BoWClassifier, self).__init__()\n",
    "        self.linear = nn.Linear(vocab_size, num_labels)\n",
    "    \n",
    "    def forward(self, bow_vec):\n",
    "        return F.log_softmax(self.linear(bow_vec), dim=1)\n",
    "\n",
    "model = BoWClassifier(len(vocab), 2) # 2 labels - disaster or nondisaster\n"
   ]
  },
  {
   "attachments": {},
   "cell_type": "markdown",
   "metadata": {},
   "source": [
    "### Training"
   ]
  },
  {
   "cell_type": "code",
   "execution_count": 26,
   "metadata": {},
   "outputs": [],
   "source": [
    "# initialize parameters\n",
    "DATASET = dataset\n",
    "COLLATE_FN = collate_into_bow\n",
    "BATCH_SIZE = 64\n",
    "SPLIT_TRAIN_RATIO = 0.7\n",
    "EPOCHS = 15\n",
    "LOSS_FUNCTION = torch.nn.NLLLoss()\n",
    "OPTIMIZER = torch.optim.SGD(model.parameters(), lr=2)"
   ]
  },
  {
   "cell_type": "code",
   "execution_count": 27,
   "metadata": {},
   "outputs": [
    {
     "name": "stdout",
     "output_type": "stream",
     "text": [
      "After epoch 1 the validation accuracy is 0.807.\n",
      "After epoch 2 the validation accuracy is 0.670.\n",
      "After epoch 3 the validation accuracy is 0.741.\n",
      "After epoch 4 the validation accuracy is 0.819.\n",
      "After epoch 5 the validation accuracy is 0.750.\n",
      "After epoch 6 the validation accuracy is 0.797.\n",
      "After epoch 7 the validation accuracy is 0.783.\n",
      "After epoch 8 the validation accuracy is 0.713.\n",
      "After epoch 9 the validation accuracy is 0.713.\n",
      "After epoch 10 the validation accuracy is 0.805.\n",
      "After epoch 11 the validation accuracy is 0.789.\n",
      "After epoch 12 the validation accuracy is 0.462.\n",
      "After epoch 13 the validation accuracy is 0.806.\n",
      "After epoch 14 the validation accuracy is 0.820.\n",
      "After epoch 15 the validation accuracy is 0.455.\n"
     ]
    },
    {
     "data": {
      "image/png": "[encoded data removed]",
      "text/plain": [
       "<Figure size 432x288 with 1 Axes>"
      ]
     },
     "metadata": {
      "needs_background": "light"
     },
     "output_type": "display_data"
    }
   ],
   "source": [
    "training(DATASET, COLLATE_FN, BATCH_SIZE, SPLIT_TRAIN_RATIO, EPOCHS, LOSS_FUNCTION, OPTIMIZER)"
   ]
  },
  {
   "attachments": {},
   "cell_type": "markdown",
   "metadata": {},
   "source": [
    "## Logistic Regression using Continuous Bag of Words Embedding"
   ]
  },
  {
   "attachments": {},
   "cell_type": "markdown",
   "metadata": {},
   "source": [
    "### Implement and Initialize the Classifier"
   ]
  },
  {
   "cell_type": "code",
   "execution_count": 31,
   "metadata": {},
   "outputs": [],
   "source": [
    "class CBoWClassifier(nn.Module):\n",
    "    def __init__(self, vecs_size, num_labels):\n",
    "        super(CBoWClassifier, self).__init__()\n",
    "        self.linear = nn.Linear(vecs_size, num_labels)\n",
    "    \n",
    "    def forward(self, cbow_vec):\n",
    "        return F.log_softmax(self.linear(cbow_vec), dim=1)\n",
    "\n",
    "model = CBoWClassifier(300, 2)"
   ]
  },
  {
   "attachments": {},
   "cell_type": "markdown",
   "metadata": {},
   "source": [
    "### Training"
   ]
  },
  {
   "cell_type": "code",
   "execution_count": 33,
   "metadata": {},
   "outputs": [
    {
     "name": "stdout",
     "output_type": "stream",
     "text": [
      "After epoch 1 the validation accuracy is 0.664.\n",
      "After epoch 2 the validation accuracy is 0.539.\n",
      "After epoch 3 the validation accuracy is 0.705.\n",
      "After epoch 4 the validation accuracy is 0.777.\n",
      "After epoch 5 the validation accuracy is 0.750.\n",
      "After epoch 6 the validation accuracy is 0.616.\n",
      "After epoch 7 the validation accuracy is 0.764.\n",
      "After epoch 8 the validation accuracy is 0.754.\n",
      "After epoch 9 the validation accuracy is 0.779.\n",
      "After epoch 10 the validation accuracy is 0.707.\n",
      "After epoch 11 the validation accuracy is 0.698.\n",
      "After epoch 12 the validation accuracy is 0.524.\n",
      "After epoch 13 the validation accuracy is 0.726.\n",
      "After epoch 14 the validation accuracy is 0.565.\n",
      "After epoch 15 the validation accuracy is 0.447.\n"
     ]
    },
    {
     "data": {
      "image/png": "[encoded data removed]",
      "text/plain": [
       "<Figure size 432x288 with 1 Axes>"
      ]
     },
     "metadata": {
      "needs_background": "light"
     },
     "output_type": "display_data"
    }
   ],
   "source": [
    "# initialize parameters\n",
    "DATASET = dataset\n",
    "COLLATE_FN = collate_into_cbow\n",
    "BATCH_SIZE = 64\n",
    "SPLIT_TRAIN_RATIO = 0.7\n",
    "EPOCHS = 15\n",
    "LOSS_FUNCTION = torch.nn.NLLLoss()\n",
    "OPTIMIZER = torch.optim.SGD(model.parameters(), lr=2)\n",
    "\n",
    "training(DATASET, COLLATE_FN, BATCH_SIZE, SPLIT_TRAIN_RATIO, EPOCHS, LOSS_FUNCTION, OPTIMIZER)"
   ]
  },
  {
   "attachments": {},
   "cell_type": "markdown",
   "metadata": {},
   "source": [
    "### Scenario Analysis: Changing the Optimizer to Adam"
   ]
  },
  {
   "cell_type": "code",
   "execution_count": 34,
   "metadata": {},
   "outputs": [
    {
     "name": "stdout",
     "output_type": "stream",
     "text": [
      "After epoch 1 the validation accuracy is 0.608.\n",
      "After epoch 2 the validation accuracy is 0.748.\n",
      "After epoch 3 the validation accuracy is 0.763.\n",
      "After epoch 4 the validation accuracy is 0.766.\n",
      "After epoch 5 the validation accuracy is 0.771.\n",
      "After epoch 6 the validation accuracy is 0.774.\n",
      "After epoch 7 the validation accuracy is 0.776.\n",
      "After epoch 8 the validation accuracy is 0.779.\n",
      "After epoch 9 the validation accuracy is 0.782.\n",
      "After epoch 10 the validation accuracy is 0.782.\n",
      "After epoch 11 the validation accuracy is 0.786.\n",
      "After epoch 12 the validation accuracy is 0.786.\n",
      "After epoch 13 the validation accuracy is 0.786.\n",
      "After epoch 14 the validation accuracy is 0.784.\n",
      "After epoch 15 the validation accuracy is 0.786.\n"
     ]
    },
    {
     "data": {
      "image/png": "[encoded data removed]",
      "text/plain": [
       "<Figure size 432x288 with 1 Axes>"
      ]
     },
     "metadata": {
      "needs_background": "light"
     },
     "output_type": "display_data"
    }
   ],
   "source": [
    "OPTIMIZER = torch.optim.Adam(model.parameters())\n",
    "training(DATASET, COLLATE_FN, BATCH_SIZE, SPLIT_TRAIN_RATIO, EPOCHS, LOSS_FUNCTION, OPTIMIZER)"
   ]
  }
 ],
 "metadata": {
  "kernelspec": {
   "display_name": "Python 3",
   "language": "python",
   "name": "python3"
  },
  "language_info": {
   "codemirror_mode": {
    "name": "ipython",
    "version": 3
   },
   "file_extension": ".py",
   "mimetype": "text/x-python",
   "name": "python",
   "nbconvert_exporter": "python",
   "pygments_lexer": "ipython3",
   "version": "3.8.10"
  },
  "orig_nbformat": 4
 },
 "nbformat": 4,
 "nbformat_minor": 2
}
